{
 "cells": [
  {
   "cell_type": "code",
   "execution_count": 149,
   "metadata": {},
   "outputs": [],
   "source": [
    "import Equilibrium\n",
    "import random\n",
    "import numpy as np\n",
    "import matplotlib.pyplot as plt\n",
    "import pandas as pd\n",
    "import ipywidgets as wg\n",
    "%matplotlib inline\n",
    "from IPython.display import display"
   ]
  },
  {
   "cell_type": "code",
   "execution_count": 150,
   "metadata": {},
   "outputs": [],
   "source": [
    "#ploting with silders' values\n",
    "def on_change_plot(v111, v112, v121, v122, v211, v212, v221, v222, w111, w112, w121, w122, w211, w212, w221, w222):\n",
    "    transmit_util = np.array([[[0, 0, 0], [0, 0, 0], [0, 0, 0]],\n",
    "                              [[0, 0, 0], [0, v111, v112], [0, v121, v122]],\n",
    "                              [[0, 0, 0], [0, v211, v212], [0, v221, v222]]],dtype = np.float)\n",
    "    receive_util = np.array( [[[0, 0, 0], [0, 0, 0], [0, 0, 0]],\n",
    "                              [[0, 0, 0], [0, w111, w112], [0, w121, w122]],\n",
    "                              [[0, 0, 0], [0, w211, w212], [0, w221, w222]]],dtype = np.float)\n",
    "    index = []\n",
    "    max_pbe = []\n",
    "    iteration = 1000\n",
    "    for theta in np.linspace(0, 1, iteration):\n",
    "        PBE = Equilibrium.Eq(theta, transmit_util, receive_util)\n",
    "        if len(PBE) != 0:\n",
    "            y = max(PBE, key= lambda x:x['EU_S'])\n",
    "            index.append(theta)\n",
    "            max_pbe.append(y)\n",
    "            \n",
    "    if len(index) == 0:\n",
    "        print('\\nNo Equilibria')\n",
    "    else:\n",
    "        _, axes = plt.subplots(nrows = 1, ncols = 2, constrained_layout=True, figsize=(12.8, 4.8))\n",
    "        \n",
    "        scatter = axes[0].scatter(index, [y['EU_S'] for y in max_pbe], c = [y['type'] for y in max_pbe], s = 1)\n",
    "        axes[0].set(ylabel = 'EU_S', xlabel = 'theta')\n",
    "        legend1 = axes[0].legend(*scatter.legend_elements(), loc = \"upper right\", title = \"Type\")\n",
    "        axes[0].add_artist(legend1)\n",
    "        axes[0].set_ylim([-1, 1])\n",
    "        \n",
    "        scatter = axes[1].scatter(index, [y['EU_R'] for y in max_pbe], c = [y['type'] for y in max_pbe], s = 1)\n",
    "        axes[1].set(ylabel = 'EU_R', xlabel = 'theta')\n",
    "        legend1 = axes[1].legend(*scatter.legend_elements(), loc = \"upper right\", title = \"Type\")\n",
    "        axes[1].add_artist(legend1)\n",
    "        axes[1].set_ylim([-1, 1])\n",
    "        \n",
    "        plt.show()"
   ]
  },
  {
   "cell_type": "code",
   "execution_count": 154,
   "metadata": {},
   "outputs": [],
   "source": [
    "#Interface Design\n",
    "col1 = ['V111', 'V112', 'V211', 'V212']\n",
    "col2 = ['W111', 'W112', 'W211', 'W212']\n",
    "col3 = ['V121', 'V122', 'V221', 'V222']\n",
    "col4 = ['W121', 'W122', 'W221', 'W222']\n",
    "\n",
    "column = [0]*4\n",
    "column[0] = [wg.FloatSlider(description = name, value = random.uniform(-1,1), min = -1, max = 1, step = 0.01,\\\n",
    "                            continuous_update = False,layout=wg.Layout(width='120%',left = '-50px')) for name in col1]\n",
    "column[1] = [wg.FloatSlider(description = name, value = random.uniform(-1,1), min = -1, max = 1, step = 0.01,\\\n",
    "                            continuous_update = False,layout=wg.Layout(width='120%',left = '-40px')) for name in col2]\n",
    "column[2] = [wg.FloatSlider(description = name, value = random.uniform(-1,1), min = -1, max = 1, step = 0.01,\\\n",
    "                            continuous_update = False,layout=wg.Layout(width='120%',left = '-50px')) for name in col3]\n",
    "column[3] = [wg.FloatSlider(description = name, value = random.uniform(-1,1), min = -1, max = 1, step = 0.01,\\\n",
    "                            continuous_update = False,layout=wg.Layout(width='120%',left = '-40px')) for name in col4]\n",
    "\n",
    "row = wg.HBox([wg.VBox(col,layout=wg.Layout(width = '25%',overflow = 'hidden')) for col in column])\n",
    "\n",
    "out = wg.interactive_output(on_change_plot,{'v111':column[0][0], 'v112':column[0][1], 'v211':column[0][2], 'v212':column[0][3],\n",
    "                                            'w111':column[1][0], 'w112':column[1][1], 'w211':column[1][2], 'w212':column[1][3], \n",
    "                                            'v121':column[2][0], 'v122':column[2][1], 'v221':column[2][2], 'v222':column[2][3],\n",
    "                                            'w121':column[3][0], 'w122':column[3][1], 'w221':column[3][2], 'w222':column[3][3]})\n",
    "\n",
    "box = wg.VBox([row , out])"
   ]
  },
  {
   "cell_type": "code",
   "execution_count": 153,
   "metadata": {},
   "outputs": [
    {
     "data": {
      "application/vnd.jupyter.widget-view+json": {
       "model_id": "a507855c69e0435a809e26c8657eb879",
       "version_major": 2,
       "version_minor": 0
      },
      "text/plain": [
       "VBox(children=(HBox(children=(VBox(children=(FloatSlider(value=0.34792856622885693, continuous_update=False, d…"
      ]
     },
     "metadata": {},
     "output_type": "display_data"
    }
   ],
   "source": [
    "display(box)"
   ]
  },
  {
   "cell_type": "code",
   "execution_count": null,
   "metadata": {},
   "outputs": [],
   "source": []
  }
 ],
 "metadata": {
  "kernelspec": {
   "display_name": "Python 3",
   "language": "python",
   "name": "python3"
  },
  "language_info": {
   "codemirror_mode": {
    "name": "ipython",
    "version": 3
   },
   "file_extension": ".py",
   "mimetype": "text/x-python",
   "name": "python",
   "nbconvert_exporter": "python",
   "pygments_lexer": "ipython3",
   "version": "3.7.9"
  }
 },
 "nbformat": 4,
 "nbformat_minor": 2
}
